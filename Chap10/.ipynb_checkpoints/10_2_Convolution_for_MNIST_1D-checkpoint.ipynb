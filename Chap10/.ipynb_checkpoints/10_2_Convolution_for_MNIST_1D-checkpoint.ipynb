{
 "cells": [
  {
   "cell_type": "markdown",
   "metadata": {
    "colab_type": "text",
    "id": "view-in-github"
   },
   "source": [
    "<a href=\"https://colab.research.google.com/github/udlbook/udlbook/blob/main/Notebooks/Chap10/10_2_Convolution_for_MNIST_1D.ipynb\" target=\"_parent\"><img src=\"https://colab.research.google.com/assets/colab-badge.svg\" alt=\"Open In Colab\"/></a>"
   ]
  },
  {
   "cell_type": "markdown",
   "metadata": {
    "id": "t9vk9Elugvmi"
   },
   "source": [
    "# **Notebook 10.2: Convolution for MNIST-1D**\n",
    "\n",
    "This notebook investigates a 1D convolutional network for MNIST-1D as in figure 10.7 and 10.8a.\n",
    "\n",
    "Work through the cells below, running each cell in turn. In various places you will see the words \"TO DO\". Follow the instructions at these places and make predictions about what is going to happen or write code to complete the functions.\n",
    "\n",
    "Contact me at udlbookmail@gmail.com if you find any mistakes or have any suggestions.\n",
    "\n"
   ]
  },
  {
   "cell_type": "code",
   "execution_count": 1,
   "metadata": {
    "id": "D5yLObtZCi9J"
   },
   "outputs": [
    {
     "name": "stdout",
     "output_type": "stream",
     "text": [
      "Collecting git+https://github.com/greydanus/mnist1d\n",
      "  Cloning https://github.com/greydanus/mnist1d to /tmp/pip-req-build-vo3besnn\n",
      "  Running command git clone --filter=blob:none --quiet https://github.com/greydanus/mnist1d /tmp/pip-req-build-vo3besnn\n",
      "  Resolved https://github.com/greydanus/mnist1d to commit 7878d96082abd200c546a07a4101fa90b30fdf7e\n",
      "  Installing build dependencies ... \u001b[?25ldone\n",
      "\u001b[?25h  Getting requirements to build wheel ... \u001b[?25ldone\n",
      "\u001b[?25h  Preparing metadata (pyproject.toml) ... \u001b[?25ldone\n",
      "\u001b[?25hRequirement already satisfied: requests in /home/ubuntu/miniconda3/envs/unsloth_env/lib/python3.11/site-packages (from mnist1d==0.0.2.post16) (2.32.3)\n",
      "Requirement already satisfied: numpy in /home/ubuntu/miniconda3/envs/unsloth_env/lib/python3.11/site-packages (from mnist1d==0.0.2.post16) (1.26.4)\n",
      "Requirement already satisfied: matplotlib in /home/ubuntu/miniconda3/envs/unsloth_env/lib/python3.11/site-packages (from mnist1d==0.0.2.post16) (3.10.0)\n",
      "Requirement already satisfied: scipy in /home/ubuntu/miniconda3/envs/unsloth_env/lib/python3.11/site-packages (from mnist1d==0.0.2.post16) (1.14.1)\n",
      "Requirement already satisfied: contourpy>=1.0.1 in /home/ubuntu/miniconda3/envs/unsloth_env/lib/python3.11/site-packages (from matplotlib->mnist1d==0.0.2.post16) (1.3.1)\n",
      "Requirement already satisfied: cycler>=0.10 in /home/ubuntu/miniconda3/envs/unsloth_env/lib/python3.11/site-packages (from matplotlib->mnist1d==0.0.2.post16) (0.12.1)\n",
      "Requirement already satisfied: fonttools>=4.22.0 in /home/ubuntu/miniconda3/envs/unsloth_env/lib/python3.11/site-packages (from matplotlib->mnist1d==0.0.2.post16) (4.55.3)\n",
      "Requirement already satisfied: kiwisolver>=1.3.1 in /home/ubuntu/miniconda3/envs/unsloth_env/lib/python3.11/site-packages (from matplotlib->mnist1d==0.0.2.post16) (1.4.7)\n",
      "Requirement already satisfied: packaging>=20.0 in /home/ubuntu/miniconda3/envs/unsloth_env/lib/python3.11/site-packages (from matplotlib->mnist1d==0.0.2.post16) (24.2)\n",
      "Requirement already satisfied: pillow>=8 in /home/ubuntu/miniconda3/envs/unsloth_env/lib/python3.11/site-packages (from matplotlib->mnist1d==0.0.2.post16) (11.0.0)\n",
      "Requirement already satisfied: pyparsing>=2.3.1 in /home/ubuntu/miniconda3/envs/unsloth_env/lib/python3.11/site-packages (from matplotlib->mnist1d==0.0.2.post16) (3.2.0)\n",
      "Requirement already satisfied: python-dateutil>=2.7 in /home/ubuntu/miniconda3/envs/unsloth_env/lib/python3.11/site-packages (from matplotlib->mnist1d==0.0.2.post16) (2.9.0.post0)\n",
      "Requirement already satisfied: charset_normalizer<4,>=2 in /home/ubuntu/miniconda3/envs/unsloth_env/lib/python3.11/site-packages (from requests->mnist1d==0.0.2.post16) (3.4.0)\n",
      "Requirement already satisfied: idna<4,>=2.5 in /home/ubuntu/miniconda3/envs/unsloth_env/lib/python3.11/site-packages (from requests->mnist1d==0.0.2.post16) (3.10)\n",
      "Requirement already satisfied: urllib3<3,>=1.21.1 in /home/ubuntu/miniconda3/envs/unsloth_env/lib/python3.11/site-packages (from requests->mnist1d==0.0.2.post16) (2.2.3)\n",
      "Requirement already satisfied: certifi>=2017.4.17 in /home/ubuntu/miniconda3/envs/unsloth_env/lib/python3.11/site-packages (from requests->mnist1d==0.0.2.post16) (2024.12.14)\n",
      "Requirement already satisfied: six>=1.5 in /home/ubuntu/miniconda3/envs/unsloth_env/lib/python3.11/site-packages (from python-dateutil>=2.7->matplotlib->mnist1d==0.0.2.post16) (1.17.0)\n"
     ]
    }
   ],
   "source": [
    "# Run this if you're in a Colab to install MNIST 1D repository\n",
    "!pip install git+https://github.com/greydanus/mnist1d"
   ]
  },
  {
   "cell_type": "code",
   "execution_count": 2,
   "metadata": {
    "id": "YrXWAH7sUWvU"
   },
   "outputs": [],
   "source": [
    "import numpy as np\n",
    "import os\n",
    "import torch, torch.nn as nn\n",
    "from torch.utils.data import TensorDataset, DataLoader\n",
    "from torch.optim.lr_scheduler import StepLR\n",
    "import matplotlib.pyplot as plt\n",
    "import mnist1d\n",
    "import random"
   ]
  },
  {
   "cell_type": "code",
   "execution_count": 3,
   "metadata": {
    "id": "twI72ZCrCt5z"
   },
   "outputs": [
    {
     "name": "stdout",
     "output_type": "stream",
     "text": [
      "Did or could not load data from ./mnist1d_data.pkl. Rebuilding dataset...\n",
      "Examples in training set: 4000\n",
      "Examples in test set: 1000\n",
      "Length of each example: 40\n"
     ]
    }
   ],
   "source": [
    "args = mnist1d.data.get_dataset_args()\n",
    "data = mnist1d.data.get_dataset(args, path='./mnist1d_data.pkl', download=False, regenerate=False)\n",
    "\n",
    "# The training and test input and outputs are in\n",
    "# data['x'], data['y'], data['x_test'], and data['y_test']\n",
    "print(\"Examples in training set: {}\".format(len(data['y'])))\n",
    "print(\"Examples in test set: {}\".format(len(data['y_test'])))\n",
    "print(\"Length of each example: {}\".format(data['x'].shape[-1]))"
   ]
  },
  {
   "cell_type": "code",
   "execution_count": 4,
   "metadata": {
    "id": "8bKADvLHbiV5"
   },
   "outputs": [
    {
     "name": "stdout",
     "output_type": "stream",
     "text": [
      "Train data: 4000 examples (columns), each of which has 40 dimensions (rows)\n",
      "Validation data: 1000 examples (columns), each of which has 40 dimensions (rows)\n"
     ]
    }
   ],
   "source": [
    "# Load in the data\n",
    "train_data_x = data['x'].transpose()\n",
    "train_data_y = data['y']\n",
    "val_data_x = data['x_test'].transpose()\n",
    "val_data_y = data['y_test']\n",
    "# Print out sizes\n",
    "print(\"Train data: %d examples (columns), each of which has %d dimensions (rows)\"%((train_data_x.shape[1],train_data_x.shape[0])))\n",
    "print(\"Validation data: %d examples (columns), each of which has %d dimensions (rows)\"%((val_data_x.shape[1],val_data_x.shape[0])))"
   ]
  },
  {
   "cell_type": "markdown",
   "metadata": {
    "id": "_sFvRDGrl4qe"
   },
   "source": [
    "Define the network"
   ]
  },
  {
   "cell_type": "code",
   "execution_count": 10,
   "metadata": {
    "id": "FslroPJJffrh"
   },
   "outputs": [],
   "source": [
    "# There are 40 input dimensions and 10 output dimensions for this data\n",
    "# The inputs correspond to the 40 offsets in the MNIST1D template.\n",
    "D_i = 40\n",
    "# The outputs correspond to the 10 digits\n",
    "D_o = 10\n",
    "\n",
    "\n",
    "# TODO Create a model with the following layers\n",
    "# 1. Convolutional layer, (input=length 40 and 1 channel, kernel size 3, stride 2, padding=\"valid\", 15 output channels )\n",
    "# 2. ReLU\n",
    "# 3. Convolutional layer, (input=length 19 and 15 channels, kernel size 3, stride 2, padding=\"valid\", 15 output channels )\n",
    "# 4. ReLU\n",
    "# 5. Convolutional layer, (input=length 9 and 15 channels, kernel size 3, stride 2, padding=\"valid\", 15 output channels)\n",
    "# 6. ReLU\n",
    "# 7. Flatten (converts 4x15) to length 60\n",
    "# 8. Linear layer (input size = 60, output size = 10)\n",
    "# References:\n",
    "# https://pytorch.org/docs/1.13/generated/torch.nn.Conv1d.html?highlight=conv1d#torch.nn.Conv1d\n",
    "# https://pytorch.org/docs/stable/generated/torch.nn.Flatten.html\n",
    "# https://pytorch.org/docs/1.13/generated/torch.nn.Linear.html?highlight=linear#torch.nn.Linear\n",
    "\n",
    "# NOTE THAT THE CONVOLUTIONAL LAYERS NEED TO TAKE THE NUMBER OF INPUT CHANNELS AS A PARAMETER\n",
    "# AND NOT THE INPUT SIZE.\n",
    "\n",
    "# Replace the following function:\n",
    "model = nn.Sequential(\n",
    "    nn.Conv1d(1, 15, kernel_size=3, stride=2, padding=\"valid\"),\n",
    "    nn.ReLU(),\n",
    "    nn.Conv1d(15, 15, kernel_size=3, stride=2, padding=\"valid\"),\n",
    "    nn.ReLU(),\n",
    "    nn.Conv1d(15, 15, kernel_size=3, stride=2, padding=\"valid\"),\n",
    "    nn.ReLU(),\n",
    "    nn.Flatten(),\n",
    "    nn.Linear(4 * 15, 10)\n",
    ")"
   ]
  },
  {
   "cell_type": "code",
   "execution_count": 11,
   "metadata": {
    "id": "YgLaex1pfhqz"
   },
   "outputs": [],
   "source": [
    "# He initialization of weights\n",
    "def weights_init(layer_in):\n",
    "  if isinstance(layer_in, nn.Linear):\n",
    "    nn.init.kaiming_uniform_(layer_in.weight)\n",
    "    layer_in.bias.data.fill_(0.0)"
   ]
  },
  {
   "cell_type": "code",
   "execution_count": 12,
   "metadata": {
    "id": "NYw8I_3mmX5c"
   },
   "outputs": [
    {
     "name": "stdout",
     "output_type": "stream",
     "text": [
      "Epoch     0, train loss 2.094741, train error 80.93,  val loss 2.095394, percent error 81.50\n",
      "Epoch     1, train loss 1.605697, train error 64.07,  val loss 1.632049, percent error 66.10\n",
      "Epoch     2, train loss 1.441440, train error 56.00,  val loss 1.446606, percent error 57.90\n",
      "Epoch     3, train loss 1.302720, train error 52.12,  val loss 1.301088, percent error 53.20\n",
      "Epoch     4, train loss 1.216185, train error 50.25,  val loss 1.240558, percent error 54.60\n",
      "Epoch     5, train loss 1.180444, train error 49.25,  val loss 1.205655, percent error 50.50\n",
      "Epoch     6, train loss 1.090210, train error 45.83,  val loss 1.150743, percent error 49.50\n",
      "Epoch     7, train loss 1.084151, train error 44.90,  val loss 1.146993, percent error 47.30\n",
      "Epoch     8, train loss 1.058536, train error 42.25,  val loss 1.133051, percent error 47.00\n",
      "Epoch     9, train loss 0.909666, train error 35.28,  val loss 0.954734, percent error 38.50\n",
      "Epoch    10, train loss 0.834845, train error 33.03,  val loss 0.887534, percent error 34.90\n",
      "Epoch    11, train loss 0.844513, train error 33.62,  val loss 0.924882, percent error 36.90\n",
      "Epoch    12, train loss 0.755750, train error 30.25,  val loss 0.845257, percent error 34.00\n",
      "Epoch    13, train loss 0.643057, train error 24.90,  val loss 0.739637, percent error 29.30\n",
      "Epoch    14, train loss 0.685161, train error 26.35,  val loss 0.753585, percent error 29.20\n",
      "Epoch    15, train loss 0.530408, train error 19.35,  val loss 0.609180, percent error 23.90\n",
      "Epoch    16, train loss 0.474070, train error 16.78,  val loss 0.593621, percent error 21.40\n",
      "Epoch    17, train loss 0.446139, train error 16.55,  val loss 0.562096, percent error 21.50\n",
      "Epoch    18, train loss 0.408336, train error 15.35,  val loss 0.501861, percent error 19.10\n",
      "Epoch    19, train loss 0.354065, train error 12.62,  val loss 0.461877, percent error 16.40\n",
      "Epoch    20, train loss 0.265552, train error 8.65,  val loss 0.369117, percent error 12.80\n",
      "Epoch    21, train loss 0.255096, train error 8.57,  val loss 0.385128, percent error 13.10\n",
      "Epoch    22, train loss 0.254046, train error 8.78,  val loss 0.374135, percent error 12.20\n",
      "Epoch    23, train loss 0.226783, train error 8.05,  val loss 0.384581, percent error 11.90\n",
      "Epoch    24, train loss 0.222784, train error 7.20,  val loss 0.364607, percent error 11.30\n",
      "Epoch    25, train loss 0.211734, train error 7.25,  val loss 0.372397, percent error 11.60\n",
      "Epoch    26, train loss 0.214190, train error 7.07,  val loss 0.367456, percent error 11.00\n",
      "Epoch    27, train loss 0.212604, train error 7.45,  val loss 0.368696, percent error 10.80\n",
      "Epoch    28, train loss 0.221294, train error 7.90,  val loss 0.379091, percent error 11.90\n",
      "Epoch    29, train loss 0.168787, train error 5.20,  val loss 0.344680, percent error 11.30\n",
      "Epoch    30, train loss 0.180764, train error 5.97,  val loss 0.348587, percent error 10.70\n",
      "Epoch    31, train loss 0.186654, train error 6.40,  val loss 0.355732, percent error 11.10\n",
      "Epoch    32, train loss 0.157894, train error 5.53,  val loss 0.360440, percent error 12.00\n",
      "Epoch    33, train loss 0.154044, train error 5.10,  val loss 0.323309, percent error 9.80\n",
      "Epoch    34, train loss 0.138948, train error 4.62,  val loss 0.326240, percent error 10.90\n",
      "Epoch    35, train loss 0.134237, train error 4.68,  val loss 0.323480, percent error 9.40\n",
      "Epoch    36, train loss 0.137439, train error 4.80,  val loss 0.353316, percent error 11.10\n",
      "Epoch    37, train loss 0.126740, train error 4.18,  val loss 0.316905, percent error 9.00\n",
      "Epoch    38, train loss 0.121903, train error 4.22,  val loss 0.315638, percent error 9.90\n",
      "Epoch    39, train loss 0.159868, train error 6.03,  val loss 0.375280, percent error 10.80\n",
      "Epoch    40, train loss 0.097175, train error 3.07,  val loss 0.292291, percent error 8.70\n",
      "Epoch    41, train loss 0.107361, train error 3.68,  val loss 0.324396, percent error 9.50\n",
      "Epoch    42, train loss 0.091511, train error 2.78,  val loss 0.304405, percent error 8.80\n",
      "Epoch    43, train loss 0.095191, train error 3.38,  val loss 0.314519, percent error 9.40\n",
      "Epoch    44, train loss 0.087399, train error 2.72,  val loss 0.304291, percent error 8.60\n",
      "Epoch    45, train loss 0.086051, train error 2.72,  val loss 0.317765, percent error 9.10\n",
      "Epoch    46, train loss 0.085081, train error 2.75,  val loss 0.318460, percent error 9.50\n",
      "Epoch    47, train loss 0.079802, train error 2.43,  val loss 0.307105, percent error 8.30\n",
      "Epoch    48, train loss 0.077199, train error 2.35,  val loss 0.310335, percent error 8.60\n",
      "Epoch    49, train loss 0.077598, train error 2.22,  val loss 0.307643, percent error 8.90\n",
      "Epoch    50, train loss 0.081965, train error 2.78,  val loss 0.331193, percent error 8.40\n",
      "Epoch    51, train loss 0.077620, train error 2.57,  val loss 0.324964, percent error 9.10\n",
      "Epoch    52, train loss 0.070153, train error 2.05,  val loss 0.309724, percent error 8.50\n",
      "Epoch    53, train loss 0.077325, train error 2.45,  val loss 0.331729, percent error 8.10\n",
      "Epoch    54, train loss 0.071617, train error 2.43,  val loss 0.327819, percent error 8.90\n",
      "Epoch    55, train loss 0.064189, train error 1.68,  val loss 0.317373, percent error 8.80\n",
      "Epoch    56, train loss 0.064231, train error 1.75,  val loss 0.330402, percent error 8.60\n",
      "Epoch    57, train loss 0.084005, train error 2.82,  val loss 0.347871, percent error 9.80\n",
      "Epoch    58, train loss 0.068572, train error 2.00,  val loss 0.325958, percent error 9.00\n",
      "Epoch    59, train loss 0.060126, train error 1.53,  val loss 0.322720, percent error 8.90\n",
      "Epoch    60, train loss 0.057100, train error 1.55,  val loss 0.327873, percent error 8.40\n",
      "Epoch    61, train loss 0.054594, train error 1.32,  val loss 0.324949, percent error 8.60\n",
      "Epoch    62, train loss 0.054517, train error 1.30,  val loss 0.330760, percent error 8.30\n",
      "Epoch    63, train loss 0.054428, train error 1.30,  val loss 0.337123, percent error 9.10\n",
      "Epoch    64, train loss 0.052303, train error 1.30,  val loss 0.332086, percent error 8.70\n",
      "Epoch    65, train loss 0.051475, train error 1.18,  val loss 0.335498, percent error 9.10\n",
      "Epoch    66, train loss 0.055036, train error 1.32,  val loss 0.336179, percent error 7.90\n",
      "Epoch    67, train loss 0.051393, train error 1.30,  val loss 0.343913, percent error 8.80\n",
      "Epoch    68, train loss 0.054048, train error 1.55,  val loss 0.341748, percent error 7.90\n",
      "Epoch    69, train loss 0.053396, train error 1.28,  val loss 0.338746, percent error 9.10\n",
      "Epoch    70, train loss 0.049757, train error 1.15,  val loss 0.333014, percent error 8.70\n",
      "Epoch    71, train loss 0.047109, train error 1.03,  val loss 0.338039, percent error 8.50\n",
      "Epoch    72, train loss 0.049565, train error 1.10,  val loss 0.347593, percent error 8.90\n",
      "Epoch    73, train loss 0.045827, train error 0.82,  val loss 0.342026, percent error 8.50\n",
      "Epoch    74, train loss 0.045876, train error 1.15,  val loss 0.349452, percent error 9.10\n",
      "Epoch    75, train loss 0.044194, train error 0.95,  val loss 0.344930, percent error 8.90\n",
      "Epoch    76, train loss 0.047080, train error 1.12,  val loss 0.346805, percent error 8.60\n",
      "Epoch    77, train loss 0.043851, train error 1.00,  val loss 0.344678, percent error 8.80\n",
      "Epoch    78, train loss 0.043148, train error 0.90,  val loss 0.346711, percent error 8.20\n",
      "Epoch    79, train loss 0.043294, train error 0.97,  val loss 0.353952, percent error 8.60\n",
      "Epoch    80, train loss 0.041354, train error 0.80,  val loss 0.351183, percent error 9.00\n",
      "Epoch    81, train loss 0.041364, train error 0.80,  val loss 0.349986, percent error 9.00\n",
      "Epoch    82, train loss 0.040708, train error 0.70,  val loss 0.353010, percent error 9.10\n",
      "Epoch    83, train loss 0.040701, train error 0.78,  val loss 0.353709, percent error 9.30\n",
      "Epoch    84, train loss 0.039903, train error 0.72,  val loss 0.354296, percent error 9.00\n",
      "Epoch    85, train loss 0.039700, train error 0.65,  val loss 0.354020, percent error 8.50\n",
      "Epoch    86, train loss 0.039271, train error 0.65,  val loss 0.355357, percent error 9.20\n",
      "Epoch    87, train loss 0.040046, train error 0.62,  val loss 0.359262, percent error 9.00\n",
      "Epoch    88, train loss 0.039287, train error 0.75,  val loss 0.355873, percent error 9.20\n",
      "Epoch    89, train loss 0.039065, train error 0.68,  val loss 0.358939, percent error 9.10\n",
      "Epoch    90, train loss 0.038601, train error 0.62,  val loss 0.357299, percent error 9.00\n",
      "Epoch    91, train loss 0.038081, train error 0.57,  val loss 0.359397, percent error 8.90\n",
      "Epoch    92, train loss 0.037832, train error 0.70,  val loss 0.357818, percent error 9.00\n",
      "Epoch    93, train loss 0.038328, train error 0.75,  val loss 0.366263, percent error 9.30\n",
      "Epoch    94, train loss 0.037254, train error 0.62,  val loss 0.359951, percent error 9.10\n",
      "Epoch    95, train loss 0.038187, train error 0.60,  val loss 0.360430, percent error 8.50\n",
      "Epoch    96, train loss 0.037036, train error 0.50,  val loss 0.361884, percent error 8.80\n",
      "Epoch    97, train loss 0.036519, train error 0.53,  val loss 0.361930, percent error 8.60\n",
      "Epoch    98, train loss 0.036419, train error 0.53,  val loss 0.360324, percent error 8.60\n",
      "Epoch    99, train loss 0.036121, train error 0.60,  val loss 0.363268, percent error 8.90\n"
     ]
    },
    {
     "data": {
      "image/png": "[encoded data removed]",
      "text/plain": [
       "<Figure size 640x480 with 1 Axes>"
      ]
     },
     "metadata": {},
     "output_type": "display_data"
    }
   ],
   "source": [
    "# choose cross entropy loss function (equation 5.24 in the loss notes)\n",
    "loss_function = nn.CrossEntropyLoss()\n",
    "# construct SGD optimizer and initialize learning rate and momentum\n",
    "optimizer = torch.optim.SGD(model.parameters(), lr = 0.05, momentum=0.9)\n",
    "# object that decreases learning rate by half every 20 epochs\n",
    "scheduler = StepLR(optimizer, step_size=20, gamma=0.5)\n",
    "# create 100 dummy data points and store in data loader class\n",
    "x_train = torch.tensor(train_data_x.transpose().astype('float32'))\n",
    "y_train = torch.tensor(train_data_y.astype('long')).long()\n",
    "x_val= torch.tensor(val_data_x.transpose().astype('float32'))\n",
    "y_val = torch.tensor(val_data_y.astype('long')).long()\n",
    "\n",
    "# load the data into a class that creates the batches\n",
    "data_loader = DataLoader(TensorDataset(x_train,y_train), batch_size=100, shuffle=True, worker_init_fn=np.random.seed(1))\n",
    "\n",
    "# Initialize model weights\n",
    "model.apply(weights_init)\n",
    "\n",
    "# loop over the dataset n_epoch times\n",
    "n_epoch = 100\n",
    "# store the loss and the % correct at each epoch\n",
    "losses_train = np.zeros((n_epoch))\n",
    "errors_train = np.zeros((n_epoch))\n",
    "losses_val = np.zeros((n_epoch))\n",
    "errors_val = np.zeros((n_epoch))\n",
    "\n",
    "for epoch in range(n_epoch):\n",
    "  # loop over batches\n",
    "  for i, data in enumerate(data_loader):\n",
    "    # retrieve inputs and labels for this batch\n",
    "    x_batch, y_batch = data\n",
    "    # zero the parameter gradients\n",
    "    optimizer.zero_grad()\n",
    "    # forward pass -- calculate model output\n",
    "    pred = model(x_batch[:,None,:])\n",
    "    # compute the loss\n",
    "    loss = loss_function(pred, y_batch)\n",
    "    # backward pass\n",
    "    loss.backward()\n",
    "    # SGD update\n",
    "    optimizer.step()\n",
    "\n",
    "  # Run whole dataset to get statistics -- normally wouldn't do this\n",
    "  pred_train = model(x_train[:,None,:])\n",
    "  pred_val = model(x_val[:,None,:])\n",
    "  _, predicted_train_class = torch.max(pred_train.data, 1)\n",
    "  _, predicted_val_class = torch.max(pred_val.data, 1)\n",
    "  errors_train[epoch] = 100 - 100 * (predicted_train_class == y_train).float().sum() / len(y_train)\n",
    "  errors_val[epoch]= 100 - 100 * (predicted_val_class == y_val).float().sum() / len(y_val)\n",
    "  losses_train[epoch] = loss_function(pred_train, y_train).item()\n",
    "  losses_val[epoch]= loss_function(pred_val, y_val).item()\n",
    "  print(f'Epoch {epoch:5d}, train loss {losses_train[epoch]:.6f}, train error {errors_train[epoch]:3.2f},  val loss {losses_val[epoch]:.6f}, percent error {errors_val[epoch]:3.2f}')\n",
    "\n",
    "  # tell scheduler to consider updating learning rate\n",
    "  scheduler.step()\n",
    "\n",
    "# Plot the results\n",
    "fig, ax = plt.subplots()\n",
    "ax.plot(errors_train,'r-',label='train')\n",
    "ax.plot(errors_val,'b-',label='validation')\n",
    "ax.set_ylim(0,100); ax.set_xlim(0,n_epoch)\n",
    "ax.set_xlabel('Epoch'); ax.set_ylabel('Error')\n",
    "ax.set_title('Part I: Validation Result %3.2f'%(errors_val[-1]))\n",
    "ax.legend()\n",
    "plt.show()"
   ]
  },
  {
   "cell_type": "code",
   "execution_count": null,
   "metadata": {},
   "outputs": [],
   "source": []
  }
 ],
 "metadata": {
  "colab": {
   "authorship_tag": "ABX9TyNb46PJB/CC1pcHGfjpUUZg",
   "include_colab_link": true,
   "provenance": []
  },
  "kernelspec": {
   "display_name": "Python 3 (ipykernel)",
   "language": "python",
   "name": "python3"
  },
  "language_info": {
   "codemirror_mode": {
    "name": "ipython",
    "version": 3
   },
   "file_extension": ".py",
   "mimetype": "text/x-python",
   "name": "python",
   "nbconvert_exporter": "python",
   "pygments_lexer": "ipython3",
   "version": "3.11.11"
  }
 },
 "nbformat": 4,
 "nbformat_minor": 4
}
