{
 "cells": [
  {
   "cell_type": "markdown",
   "metadata": {
    "colab_type": "text",
    "id": "view-in-github"
   },
   "source": [
    "<a href=\"https://colab.research.google.com/github/udlbook/udlbook/blob/main/Notebooks/Chap10/10_5_Convolution_For_MNIST.ipynb\" target=\"_parent\"><img src=\"https://colab.research.google.com/assets/colab-badge.svg\" alt=\"Open In Colab\"/></a>"
   ]
  },
  {
   "cell_type": "markdown",
   "metadata": {
    "id": "t9vk9Elugvmi"
   },
   "source": [
    "# **Notebook 10.5: Convolution for MNIST**\n",
    "\n",
    "This notebook builds a proper network for 2D convolution.  It works with the MNIST dataset (figure 15.15a), which was the original classic dataset for classifying images.  The network will take a 28x28 grayscale image and classify it into one of 10 classes representing a digit.\n",
    "\n",
    "The code is adapted from https://nextjournal.com/gkoehler/pytorch-mnist\n",
    "\n",
    "Work through the cells below, running each cell in turn. In various places you will see the words \"TO DO\". Follow the instructions at these places and make predictions about what is going to happen or write code to complete the functions.\n",
    "\n",
    "Contact me at udlbookmail@gmail.com if you find any mistakes or have any suggestions.\n"
   ]
  },
  {
   "cell_type": "code",
   "execution_count": 1,
   "metadata": {
    "id": "YrXWAH7sUWvU"
   },
   "outputs": [],
   "source": [
    "import torch\n",
    "import torchvision\n",
    "import torch.nn as nn\n",
    "import torch.nn.functional as F\n",
    "import torch.optim as optim\n",
    "import matplotlib.pyplot as plt\n",
    "import random"
   ]
  },
  {
   "cell_type": "code",
   "execution_count": 4,
   "metadata": {
    "id": "wScBGXXFVadm"
   },
   "outputs": [
    {
     "name": "stdout",
     "output_type": "stream",
     "text": [
      "Downloading http://yann.lecun.com/exdb/mnist/train-images-idx3-ubyte.gz\n",
      "Failed to download (trying next):\n",
      "HTTP Error 404: Not Found\n",
      "\n",
      "Downloading https://ossci-datasets.s3.amazonaws.com/mnist/train-images-idx3-ubyte.gz\n",
      "Downloading https://ossci-datasets.s3.amazonaws.com/mnist/train-images-idx3-ubyte.gz to ./files/MNIST/raw/train-images-idx3-ubyte.gz\n"
     ]
    },
    {
     "name": "stderr",
     "output_type": "stream",
     "text": [
      "100%|██████████████████████████████████████| 9.91M/9.91M [00:02<00:00, 3.45MB/s]\n"
     ]
    },
    {
     "name": "stdout",
     "output_type": "stream",
     "text": [
      "Extracting ./files/MNIST/raw/train-images-idx3-ubyte.gz to ./files/MNIST/raw\n",
      "\n",
      "Downloading http://yann.lecun.com/exdb/mnist/train-labels-idx1-ubyte.gz\n",
      "Failed to download (trying next):\n",
      "HTTP Error 404: Not Found\n",
      "\n",
      "Downloading https://ossci-datasets.s3.amazonaws.com/mnist/train-labels-idx1-ubyte.gz\n",
      "Downloading https://ossci-datasets.s3.amazonaws.com/mnist/train-labels-idx1-ubyte.gz to ./files/MNIST/raw/train-labels-idx1-ubyte.gz\n"
     ]
    },
    {
     "name": "stderr",
     "output_type": "stream",
     "text": [
      "100%|███████████████████████████████████████| 28.9k/28.9k [00:00<00:00, 120kB/s]\n"
     ]
    },
    {
     "name": "stdout",
     "output_type": "stream",
     "text": [
      "Extracting ./files/MNIST/raw/train-labels-idx1-ubyte.gz to ./files/MNIST/raw\n",
      "\n",
      "Downloading http://yann.lecun.com/exdb/mnist/t10k-images-idx3-ubyte.gz\n",
      "Failed to download (trying next):\n",
      "HTTP Error 404: Not Found\n",
      "\n",
      "Downloading https://ossci-datasets.s3.amazonaws.com/mnist/t10k-images-idx3-ubyte.gz\n",
      "Downloading https://ossci-datasets.s3.amazonaws.com/mnist/t10k-images-idx3-ubyte.gz to ./files/MNIST/raw/t10k-images-idx3-ubyte.gz\n"
     ]
    },
    {
     "name": "stderr",
     "output_type": "stream",
     "text": [
      "100%|███████████████████████████████████████| 1.65M/1.65M [00:02<00:00, 787kB/s]\n"
     ]
    },
    {
     "name": "stdout",
     "output_type": "stream",
     "text": [
      "Extracting ./files/MNIST/raw/t10k-images-idx3-ubyte.gz to ./files/MNIST/raw\n",
      "\n",
      "Downloading http://yann.lecun.com/exdb/mnist/t10k-labels-idx1-ubyte.gz\n",
      "Failed to download (trying next):\n",
      "HTTP Error 404: Not Found\n",
      "\n",
      "Downloading https://ossci-datasets.s3.amazonaws.com/mnist/t10k-labels-idx1-ubyte.gz\n",
      "Downloading https://ossci-datasets.s3.amazonaws.com/mnist/t10k-labels-idx1-ubyte.gz to ./files/MNIST/raw/t10k-labels-idx1-ubyte.gz\n"
     ]
    },
    {
     "name": "stderr",
     "output_type": "stream",
     "text": [
      "100%|██████████████████████████████████████| 4.54k/4.54k [00:00<00:00, 3.72MB/s]"
     ]
    },
    {
     "name": "stdout",
     "output_type": "stream",
     "text": [
      "Extracting ./files/MNIST/raw/t10k-labels-idx1-ubyte.gz to ./files/MNIST/raw\n",
      "\n"
     ]
    },
    {
     "name": "stderr",
     "output_type": "stream",
     "text": [
      "\n"
     ]
    }
   ],
   "source": [
    "# Run this once to load the train and test data straight into a dataloader class\n",
    "# that will provide the batches\n",
    "\n",
    "# (It may complain that some files are missing because the files seem to have been\n",
    "# reorganized on the underlying website, but it still seems to work). If everything is working\n",
    "# properly, then the whole notebook should run to the end without further problems\n",
    "# even before you make changes.\n",
    "batch_size_train = 64\n",
    "batch_size_test = 1000\n",
    "\n",
    "# TODO Change this directory to point towards an existing directory\n",
    "myDir = './files/'\n",
    "\n",
    "train_loader = torch.utils.data.DataLoader(\n",
    "  torchvision.datasets.MNIST(myDir, train=True, download=True,\n",
    "                             transform=torchvision.transforms.Compose([\n",
    "                               torchvision.transforms.ToTensor(),\n",
    "                               torchvision.transforms.Normalize(\n",
    "                                 (0.1307,), (0.3081,))\n",
    "                             ])),\n",
    "  batch_size=batch_size_train, shuffle=True)\n",
    "\n",
    "test_loader = torch.utils.data.DataLoader(\n",
    "  torchvision.datasets.MNIST(myDir, train=False, download=True,\n",
    "                             transform=torchvision.transforms.Compose([\n",
    "                               torchvision.transforms.ToTensor(),\n",
    "                               torchvision.transforms.Normalize(\n",
    "                                 (0.1307,), (0.3081,))\n",
    "                             ])),\n",
    "  batch_size=batch_size_test, shuffle=True)"
   ]
  },
  {
   "cell_type": "code",
   "execution_count": 5,
   "metadata": {
    "id": "8bKADvLHbiV5"
   },
   "outputs": [
    {
     "data": {
      "image/png": "[encoded data removed]",
      "text/plain": [
       "<Figure size 640x480 with 6 Axes>"
      ]
     },
     "metadata": {},
     "output_type": "display_data"
    }
   ],
   "source": [
    "# Let's draw some of the training data\n",
    "examples = enumerate(test_loader)\n",
    "batch_idx, (example_data, example_targets) = next(examples)\n",
    "\n",
    "fig = plt.figure()\n",
    "for i in range(6):\n",
    "  plt.subplot(2,3,i+1)\n",
    "  plt.tight_layout()\n",
    "  plt.imshow(example_data[i][0], cmap='gray', interpolation='none')\n",
    "  plt.title(\"Ground Truth: {}\".format(example_targets[i]))\n",
    "  plt.xticks([])\n",
    "  plt.yticks([])\n",
    "plt.show()"
   ]
  },
  {
   "cell_type": "markdown",
   "metadata": {
    "id": "_sFvRDGrl4qe"
   },
   "source": [
    "Define the network.  This is a more typical way to define a network than the sequential structure.  We define a class for the network, and define the parameters in the constructor.  Then we use a function called forward to actually run the network.  It's easy to see how you might use residual connections in this format."
   ]
  },
  {
   "cell_type": "code",
   "execution_count": 25,
   "metadata": {
    "id": "EQkvw2KOPVl7"
   },
   "outputs": [],
   "source": [
    "from os import X_OK\n",
    "# TODO Change this class to implement\n",
    "# 1. A valid convolution with kernel size 5, 1 input channel and 10 output channels\n",
    "# 2. A max pooling operation over a 2x2 area\n",
    "# 3. A Relu\n",
    "# 4. A valid convolution with kernel size 5, 10 input channels and 20 output channels\n",
    "# 5. A 2D Dropout layer\n",
    "\n",
    "# 6. A max pooling operation over a 2x2 area\n",
    "# 7. A relu\n",
    "# 8. A flattening operation\n",
    "# 9. A fully connected layer mapping from (whatever dimensions we are at-- find out using .shape) to 50\n",
    "# 10. A ReLU\n",
    "# 11. A fully connected layer mapping from 50 to 10 dimensions\n",
    "# 12. A softmax function.\n",
    "\n",
    "# Replace this class which implements a minimal network (which still does okay)\n",
    "class Net(nn.Module):\n",
    "    def __init__(self):\n",
    "        super(Net, self).__init__()\n",
    "        # Valid convolution, 1 channel in, 2 channels out, stride 1, kernel size = 3\n",
    "        self.conv1 = nn.Conv2d(1, 10, kernel_size=5)\n",
    "        self.conv2 = nn.Conv2d(10, 20, kernel_size=5)\n",
    "        # Dropout for convolutions\n",
    "        self.drop = nn.Dropout2d()\n",
    "        # Fully connected layer\n",
    "        self.fc1 = nn.Linear(320, 50)\n",
    "        self.fc2 = nn.Linear(50, 10)\n",
    "\n",
    "    def forward(self, x):\n",
    "        x = self.conv1(x)\n",
    "        x = F.max_pool2d(x,2)\n",
    "        x = F.relu(x)\n",
    "        x = self.conv2(x)\n",
    "        x = self.drop(x)\n",
    "        x = F.max_pool2d(x,2)\n",
    "        x = x.flatten(1)\n",
    "        x = self.fc1(x)\n",
    "        x = self.fc2(x)\n",
    "        x = F.log_softmax(x)\n",
    "        return x"
   ]
  },
  {
   "cell_type": "code",
   "execution_count": 26,
   "metadata": {
    "id": "qWZtkCZcU_dg"
   },
   "outputs": [],
   "source": [
    "# He initialization of weights\n",
    "def weights_init(layer_in):\n",
    "  if isinstance(layer_in, nn.Linear):\n",
    "    nn.init.kaiming_uniform_(layer_in.weight)\n",
    "    layer_in.bias.data.fill_(0.0)"
   ]
  },
  {
   "cell_type": "code",
   "execution_count": 27,
   "metadata": {
    "id": "FslroPJJffrh"
   },
   "outputs": [],
   "source": [
    "# Create network\n",
    "model = Net()\n",
    "# Initialize model weights\n",
    "model.apply(weights_init)\n",
    "# Define optimizer\n",
    "optimizer = optim.SGD(model.parameters(), lr=0.01, momentum=0.5)"
   ]
  },
  {
   "cell_type": "code",
   "execution_count": 28,
   "metadata": {
    "id": "xKQd9PzkQ766"
   },
   "outputs": [],
   "source": [
    "# Main training routine\n",
    "def train(epoch):\n",
    "  model.train()\n",
    "  # Get each\n",
    "  for batch_idx, (data, target) in enumerate(train_loader):\n",
    "    optimizer.zero_grad()\n",
    "    output = model(data)\n",
    "    loss = F.nll_loss(output, target)\n",
    "    loss.backward()\n",
    "    optimizer.step()\n",
    "    # Store results\n",
    "    if batch_idx % 10 == 0:\n",
    "      print('Train Epoch: {} [{}/{}]\\tLoss: {:.6f}'.format(\n",
    "        epoch, batch_idx * len(data), len(train_loader.dataset), loss.item()))"
   ]
  },
  {
   "cell_type": "code",
   "execution_count": 29,
   "metadata": {
    "id": "Byn-f7qWRLxX"
   },
   "outputs": [],
   "source": [
    "# Run on test data\n",
    "def test():\n",
    "  model.eval()\n",
    "  test_loss = 0\n",
    "  correct = 0\n",
    "  with torch.no_grad():\n",
    "    for data, target in test_loader:\n",
    "      output = model(data)\n",
    "      test_loss += F.nll_loss(output, target, size_average=False).item()\n",
    "      pred = output.data.max(1, keepdim=True)[1]\n",
    "      correct += pred.eq(target.data.view_as(pred)).sum()\n",
    "  test_loss /= len(test_loader.dataset)\n",
    "  print('\\nTest set: Avg. loss: {:.4f}, Accuracy: {}/{} ({:.0f}%)\\n'.format(\n",
    "    test_loss, correct, len(test_loader.dataset),\n",
    "    100. * correct / len(test_loader.dataset)))"
   ]
  },
  {
   "cell_type": "code",
   "execution_count": 30,
   "metadata": {
    "id": "YgLaex1pfhqz",
    "scrolled": true
   },
   "outputs": [
    {
     "name": "stderr",
     "output_type": "stream",
     "text": [
      "/tmp/ipykernel_9700/752274315.py:40: UserWarning: Implicit dimension choice for log_softmax has been deprecated. Change the call to include dim=X as an argument.\n",
      "  x = F.log_softmax(x)\n"
     ]
    },
    {
     "name": "stdout",
     "output_type": "stream",
     "text": [
      "\n",
      "Test set: Avg. loss: 2.7183, Accuracy: 849/10000 (8%)\n",
      "\n",
      "Train Epoch: 1 [0/60000]\tLoss: 3.003128\n",
      "Train Epoch: 1 [640/60000]\tLoss: 2.023445\n",
      "Train Epoch: 1 [1280/60000]\tLoss: 1.604177\n",
      "Train Epoch: 1 [1920/60000]\tLoss: 1.069615\n",
      "Train Epoch: 1 [2560/60000]\tLoss: 1.191580\n",
      "Train Epoch: 1 [3200/60000]\tLoss: 0.911542\n",
      "Train Epoch: 1 [3840/60000]\tLoss: 0.634365\n",
      "Train Epoch: 1 [4480/60000]\tLoss: 0.674893\n",
      "Train Epoch: 1 [5120/60000]\tLoss: 0.523427\n",
      "Train Epoch: 1 [5760/60000]\tLoss: 0.646295\n",
      "Train Epoch: 1 [6400/60000]\tLoss: 0.599266\n",
      "Train Epoch: 1 [7040/60000]\tLoss: 0.627877\n",
      "Train Epoch: 1 [7680/60000]\tLoss: 0.508274\n",
      "Train Epoch: 1 [8320/60000]\tLoss: 0.496991\n",
      "Train Epoch: 1 [8960/60000]\tLoss: 0.365765\n",
      "Train Epoch: 1 [9600/60000]\tLoss: 0.637885\n",
      "Train Epoch: 1 [10240/60000]\tLoss: 0.317133\n",
      "Train Epoch: 1 [10880/60000]\tLoss: 0.449035\n",
      "Train Epoch: 1 [11520/60000]\tLoss: 0.451938\n",
      "Train Epoch: 1 [12160/60000]\tLoss: 0.311655\n",
      "Train Epoch: 1 [12800/60000]\tLoss: 0.276108\n",
      "Train Epoch: 1 [13440/60000]\tLoss: 0.293018\n",
      "Train Epoch: 1 [14080/60000]\tLoss: 0.412963\n",
      "Train Epoch: 1 [14720/60000]\tLoss: 0.547390\n",
      "Train Epoch: 1 [15360/60000]\tLoss: 0.590602\n",
      "Train Epoch: 1 [16000/60000]\tLoss: 0.424407\n",
      "Train Epoch: 1 [16640/60000]\tLoss: 0.356716\n",
      "Train Epoch: 1 [17280/60000]\tLoss: 0.333462\n",
      "Train Epoch: 1 [17920/60000]\tLoss: 0.271254\n",
      "Train Epoch: 1 [18560/60000]\tLoss: 0.250604\n",
      "Train Epoch: 1 [19200/60000]\tLoss: 0.196162\n",
      "Train Epoch: 1 [19840/60000]\tLoss: 0.253515\n",
      "Train Epoch: 1 [20480/60000]\tLoss: 0.357745\n",
      "Train Epoch: 1 [21120/60000]\tLoss: 0.143036\n",
      "Train Epoch: 1 [21760/60000]\tLoss: 0.190663\n",
      "Train Epoch: 1 [22400/60000]\tLoss: 0.260199\n",
      "Train Epoch: 1 [23040/60000]\tLoss: 0.298521\n",
      "Train Epoch: 1 [23680/60000]\tLoss: 0.159598\n",
      "Train Epoch: 1 [24320/60000]\tLoss: 0.226089\n",
      "Train Epoch: 1 [24960/60000]\tLoss: 0.179261\n",
      "Train Epoch: 1 [25600/60000]\tLoss: 0.419938\n",
      "Train Epoch: 1 [26240/60000]\tLoss: 0.079802\n",
      "Train Epoch: 1 [26880/60000]\tLoss: 0.199235\n",
      "Train Epoch: 1 [27520/60000]\tLoss: 0.344483\n",
      "Train Epoch: 1 [28160/60000]\tLoss: 0.326568\n",
      "Train Epoch: 1 [28800/60000]\tLoss: 0.237397\n",
      "Train Epoch: 1 [29440/60000]\tLoss: 0.186284\n",
      "Train Epoch: 1 [30080/60000]\tLoss: 0.161800\n",
      "Train Epoch: 1 [30720/60000]\tLoss: 0.211177\n",
      "Train Epoch: 1 [31360/60000]\tLoss: 0.091683\n",
      "Train Epoch: 1 [32000/60000]\tLoss: 0.285133\n",
      "Train Epoch: 1 [32640/60000]\tLoss: 0.664215\n",
      "Train Epoch: 1 [33280/60000]\tLoss: 0.527889\n",
      "Train Epoch: 1 [33920/60000]\tLoss: 0.404414\n",
      "Train Epoch: 1 [34560/60000]\tLoss: 0.215097\n",
      "Train Epoch: 1 [35200/60000]\tLoss: 0.230309\n",
      "Train Epoch: 1 [35840/60000]\tLoss: 0.167768\n",
      "Train Epoch: 1 [36480/60000]\tLoss: 0.238248\n",
      "Train Epoch: 1 [37120/60000]\tLoss: 0.225353\n",
      "Train Epoch: 1 [37760/60000]\tLoss: 0.145242\n",
      "Train Epoch: 1 [38400/60000]\tLoss: 0.322482\n",
      "Train Epoch: 1 [39040/60000]\tLoss: 0.165165\n",
      "Train Epoch: 1 [39680/60000]\tLoss: 0.242238\n",
      "Train Epoch: 1 [40320/60000]\tLoss: 0.331038\n",
      "Train Epoch: 1 [40960/60000]\tLoss: 0.096507\n",
      "Train Epoch: 1 [41600/60000]\tLoss: 0.309005\n",
      "Train Epoch: 1 [42240/60000]\tLoss: 0.158615\n",
      "Train Epoch: 1 [42880/60000]\tLoss: 0.192809\n",
      "Train Epoch: 1 [43520/60000]\tLoss: 0.405509\n",
      "Train Epoch: 1 [44160/60000]\tLoss: 0.185484\n",
      "Train Epoch: 1 [44800/60000]\tLoss: 0.212270\n",
      "Train Epoch: 1 [45440/60000]\tLoss: 0.271746\n",
      "Train Epoch: 1 [46080/60000]\tLoss: 0.159745\n",
      "Train Epoch: 1 [46720/60000]\tLoss: 0.113566\n",
      "Train Epoch: 1 [47360/60000]\tLoss: 0.162109\n",
      "Train Epoch: 1 [48000/60000]\tLoss: 0.099052\n",
      "Train Epoch: 1 [48640/60000]\tLoss: 0.213735\n",
      "Train Epoch: 1 [49280/60000]\tLoss: 0.070740\n",
      "Train Epoch: 1 [49920/60000]\tLoss: 0.214098\n",
      "Train Epoch: 1 [50560/60000]\tLoss: 0.077002\n",
      "Train Epoch: 1 [51200/60000]\tLoss: 0.117737\n",
      "Train Epoch: 1 [51840/60000]\tLoss: 0.256276\n",
      "Train Epoch: 1 [52480/60000]\tLoss: 0.144491\n",
      "Train Epoch: 1 [53120/60000]\tLoss: 0.226785\n",
      "Train Epoch: 1 [53760/60000]\tLoss: 0.130589\n",
      "Train Epoch: 1 [54400/60000]\tLoss: 0.204036\n",
      "Train Epoch: 1 [55040/60000]\tLoss: 0.076772\n",
      "Train Epoch: 1 [55680/60000]\tLoss: 0.297754\n",
      "Train Epoch: 1 [56320/60000]\tLoss: 0.147120\n",
      "Train Epoch: 1 [56960/60000]\tLoss: 0.441965\n",
      "Train Epoch: 1 [57600/60000]\tLoss: 0.247175\n",
      "Train Epoch: 1 [58240/60000]\tLoss: 0.086112\n",
      "Train Epoch: 1 [58880/60000]\tLoss: 0.111497\n",
      "Train Epoch: 1 [59520/60000]\tLoss: 0.092260\n",
      "\n",
      "Test set: Avg. loss: 0.1015, Accuracy: 9673/10000 (97%)\n",
      "\n",
      "Train Epoch: 2 [0/60000]\tLoss: 0.132073\n",
      "Train Epoch: 2 [640/60000]\tLoss: 0.158379\n",
      "Train Epoch: 2 [1280/60000]\tLoss: 0.211164\n",
      "Train Epoch: 2 [1920/60000]\tLoss: 0.342597\n",
      "Train Epoch: 2 [2560/60000]\tLoss: 0.364284\n",
      "Train Epoch: 2 [3200/60000]\tLoss: 0.278924\n",
      "Train Epoch: 2 [3840/60000]\tLoss: 0.170254\n",
      "Train Epoch: 2 [4480/60000]\tLoss: 0.430210\n",
      "Train Epoch: 2 [5120/60000]\tLoss: 0.063220\n",
      "Train Epoch: 2 [5760/60000]\tLoss: 0.132969\n",
      "Train Epoch: 2 [6400/60000]\tLoss: 0.047090\n",
      "Train Epoch: 2 [7040/60000]\tLoss: 0.142851\n",
      "Train Epoch: 2 [7680/60000]\tLoss: 0.151554\n",
      "Train Epoch: 2 [8320/60000]\tLoss: 0.267335\n",
      "Train Epoch: 2 [8960/60000]\tLoss: 0.122816\n",
      "Train Epoch: 2 [9600/60000]\tLoss: 0.158122\n",
      "Train Epoch: 2 [10240/60000]\tLoss: 0.086397\n",
      "Train Epoch: 2 [10880/60000]\tLoss: 0.401357\n",
      "Train Epoch: 2 [11520/60000]\tLoss: 0.140453\n",
      "Train Epoch: 2 [12160/60000]\tLoss: 0.110696\n",
      "Train Epoch: 2 [12800/60000]\tLoss: 0.176804\n",
      "Train Epoch: 2 [13440/60000]\tLoss: 0.165036\n",
      "Train Epoch: 2 [14080/60000]\tLoss: 0.050864\n",
      "Train Epoch: 2 [14720/60000]\tLoss: 0.143428\n",
      "Train Epoch: 2 [15360/60000]\tLoss: 0.152224\n",
      "Train Epoch: 2 [16000/60000]\tLoss: 0.181152\n",
      "Train Epoch: 2 [16640/60000]\tLoss: 0.126941\n",
      "Train Epoch: 2 [17280/60000]\tLoss: 0.074312\n",
      "Train Epoch: 2 [17920/60000]\tLoss: 0.125975\n",
      "Train Epoch: 2 [18560/60000]\tLoss: 0.047323\n",
      "Train Epoch: 2 [19200/60000]\tLoss: 0.140723\n",
      "Train Epoch: 2 [19840/60000]\tLoss: 0.260414\n",
      "Train Epoch: 2 [20480/60000]\tLoss: 0.081945\n",
      "Train Epoch: 2 [21120/60000]\tLoss: 0.172929\n",
      "Train Epoch: 2 [21760/60000]\tLoss: 0.038868\n",
      "Train Epoch: 2 [22400/60000]\tLoss: 0.190925\n",
      "Train Epoch: 2 [23040/60000]\tLoss: 0.166790\n",
      "Train Epoch: 2 [23680/60000]\tLoss: 0.080861\n",
      "Train Epoch: 2 [24320/60000]\tLoss: 0.266070\n",
      "Train Epoch: 2 [24960/60000]\tLoss: 0.112438\n",
      "Train Epoch: 2 [25600/60000]\tLoss: 0.084758\n",
      "Train Epoch: 2 [26240/60000]\tLoss: 0.204108\n",
      "Train Epoch: 2 [26880/60000]\tLoss: 0.224262\n",
      "Train Epoch: 2 [27520/60000]\tLoss: 0.071276\n",
      "Train Epoch: 2 [28160/60000]\tLoss: 0.057616\n",
      "Train Epoch: 2 [28800/60000]\tLoss: 0.151020\n",
      "Train Epoch: 2 [29440/60000]\tLoss: 0.094632\n",
      "Train Epoch: 2 [30080/60000]\tLoss: 0.048031\n",
      "Train Epoch: 2 [30720/60000]\tLoss: 0.109592\n",
      "Train Epoch: 2 [31360/60000]\tLoss: 0.262720\n",
      "Train Epoch: 2 [32000/60000]\tLoss: 0.090003\n",
      "Train Epoch: 2 [32640/60000]\tLoss: 0.159488\n",
      "Train Epoch: 2 [33280/60000]\tLoss: 0.195706\n",
      "Train Epoch: 2 [33920/60000]\tLoss: 0.097280\n",
      "Train Epoch: 2 [34560/60000]\tLoss: 0.242320\n",
      "Train Epoch: 2 [35200/60000]\tLoss: 0.102292\n",
      "Train Epoch: 2 [35840/60000]\tLoss: 0.031495\n",
      "Train Epoch: 2 [36480/60000]\tLoss: 0.122903\n",
      "Train Epoch: 2 [37120/60000]\tLoss: 0.105343\n",
      "Train Epoch: 2 [37760/60000]\tLoss: 0.173263\n",
      "Train Epoch: 2 [38400/60000]\tLoss: 0.085002\n",
      "Train Epoch: 2 [39040/60000]\tLoss: 0.168935\n",
      "Train Epoch: 2 [39680/60000]\tLoss: 0.098031\n",
      "Train Epoch: 2 [40320/60000]\tLoss: 0.139047\n",
      "Train Epoch: 2 [40960/60000]\tLoss: 0.160575\n",
      "Train Epoch: 2 [41600/60000]\tLoss: 0.054288\n",
      "Train Epoch: 2 [42240/60000]\tLoss: 0.090113\n",
      "Train Epoch: 2 [42880/60000]\tLoss: 0.152240\n",
      "Train Epoch: 2 [43520/60000]\tLoss: 0.054389\n",
      "Train Epoch: 2 [44160/60000]\tLoss: 0.120558\n",
      "Train Epoch: 2 [44800/60000]\tLoss: 0.056102\n",
      "Train Epoch: 2 [45440/60000]\tLoss: 0.123601\n",
      "Train Epoch: 2 [46080/60000]\tLoss: 0.042538\n",
      "Train Epoch: 2 [46720/60000]\tLoss: 0.084508\n",
      "Train Epoch: 2 [47360/60000]\tLoss: 0.029994\n",
      "Train Epoch: 2 [48000/60000]\tLoss: 0.155389\n",
      "Train Epoch: 2 [48640/60000]\tLoss: 0.198880\n",
      "Train Epoch: 2 [49280/60000]\tLoss: 0.385126\n",
      "Train Epoch: 2 [49920/60000]\tLoss: 0.050907\n",
      "Train Epoch: 2 [50560/60000]\tLoss: 0.109647\n",
      "Train Epoch: 2 [51200/60000]\tLoss: 0.223343\n",
      "Train Epoch: 2 [51840/60000]\tLoss: 0.149635\n",
      "Train Epoch: 2 [52480/60000]\tLoss: 0.163910\n",
      "Train Epoch: 2 [53120/60000]\tLoss: 0.098486\n",
      "Train Epoch: 2 [53760/60000]\tLoss: 0.021924\n",
      "Train Epoch: 2 [54400/60000]\tLoss: 0.065779\n",
      "Train Epoch: 2 [55040/60000]\tLoss: 0.169613\n",
      "Train Epoch: 2 [55680/60000]\tLoss: 0.153315\n",
      "Train Epoch: 2 [56320/60000]\tLoss: 0.078219\n",
      "Train Epoch: 2 [56960/60000]\tLoss: 0.372555\n",
      "Train Epoch: 2 [57600/60000]\tLoss: 0.055875\n",
      "Train Epoch: 2 [58240/60000]\tLoss: 0.074664\n",
      "Train Epoch: 2 [58880/60000]\tLoss: 0.062785\n",
      "Train Epoch: 2 [59520/60000]\tLoss: 0.050540\n",
      "\n",
      "Test set: Avg. loss: 0.0708, Accuracy: 9770/10000 (98%)\n",
      "\n",
      "Train Epoch: 3 [0/60000]\tLoss: 0.042743\n",
      "Train Epoch: 3 [640/60000]\tLoss: 0.123691\n",
      "Train Epoch: 3 [1280/60000]\tLoss: 0.237471\n",
      "Train Epoch: 3 [1920/60000]\tLoss: 0.074830\n",
      "Train Epoch: 3 [2560/60000]\tLoss: 0.115611\n",
      "Train Epoch: 3 [3200/60000]\tLoss: 0.084743\n",
      "Train Epoch: 3 [3840/60000]\tLoss: 0.082098\n",
      "Train Epoch: 3 [4480/60000]\tLoss: 0.158492\n",
      "Train Epoch: 3 [5120/60000]\tLoss: 0.117596\n",
      "Train Epoch: 3 [5760/60000]\tLoss: 0.278629\n",
      "Train Epoch: 3 [6400/60000]\tLoss: 0.222421\n",
      "Train Epoch: 3 [7040/60000]\tLoss: 0.086442\n",
      "Train Epoch: 3 [7680/60000]\tLoss: 0.035252\n",
      "Train Epoch: 3 [8320/60000]\tLoss: 0.057116\n",
      "Train Epoch: 3 [8960/60000]\tLoss: 0.024789\n",
      "Train Epoch: 3 [9600/60000]\tLoss: 0.142653\n",
      "Train Epoch: 3 [10240/60000]\tLoss: 0.129347\n",
      "Train Epoch: 3 [10880/60000]\tLoss: 0.130871\n",
      "Train Epoch: 3 [11520/60000]\tLoss: 0.124669\n",
      "Train Epoch: 3 [12160/60000]\tLoss: 0.197745\n",
      "Train Epoch: 3 [12800/60000]\tLoss: 0.191225\n",
      "Train Epoch: 3 [13440/60000]\tLoss: 0.313447\n",
      "Train Epoch: 3 [14080/60000]\tLoss: 0.077342\n",
      "Train Epoch: 3 [14720/60000]\tLoss: 0.114403\n",
      "Train Epoch: 3 [15360/60000]\tLoss: 0.091747\n",
      "Train Epoch: 3 [16000/60000]\tLoss: 0.119157\n",
      "Train Epoch: 3 [16640/60000]\tLoss: 0.149724\n",
      "Train Epoch: 3 [17280/60000]\tLoss: 0.067249\n",
      "Train Epoch: 3 [17920/60000]\tLoss: 0.047122\n",
      "Train Epoch: 3 [18560/60000]\tLoss: 0.155326\n",
      "Train Epoch: 3 [19200/60000]\tLoss: 0.179277\n",
      "Train Epoch: 3 [19840/60000]\tLoss: 0.157928\n",
      "Train Epoch: 3 [20480/60000]\tLoss: 0.109184\n",
      "Train Epoch: 3 [21120/60000]\tLoss: 0.077270\n",
      "Train Epoch: 3 [21760/60000]\tLoss: 0.131062\n",
      "Train Epoch: 3 [22400/60000]\tLoss: 0.026712\n",
      "Train Epoch: 3 [23040/60000]\tLoss: 0.083355\n",
      "Train Epoch: 3 [23680/60000]\tLoss: 0.196508\n",
      "Train Epoch: 3 [24320/60000]\tLoss: 0.036803\n",
      "Train Epoch: 3 [24960/60000]\tLoss: 0.179685\n",
      "Train Epoch: 3 [25600/60000]\tLoss: 0.213120\n",
      "Train Epoch: 3 [26240/60000]\tLoss: 0.281740\n",
      "Train Epoch: 3 [26880/60000]\tLoss: 0.024613\n",
      "Train Epoch: 3 [27520/60000]\tLoss: 0.067800\n",
      "Train Epoch: 3 [28160/60000]\tLoss: 0.092562\n",
      "Train Epoch: 3 [28800/60000]\tLoss: 0.088727\n",
      "Train Epoch: 3 [29440/60000]\tLoss: 0.041103\n",
      "Train Epoch: 3 [30080/60000]\tLoss: 0.315065\n",
      "Train Epoch: 3 [30720/60000]\tLoss: 0.072601\n",
      "Train Epoch: 3 [31360/60000]\tLoss: 0.084017\n",
      "Train Epoch: 3 [32000/60000]\tLoss: 0.101011\n",
      "Train Epoch: 3 [32640/60000]\tLoss: 0.207352\n",
      "Train Epoch: 3 [33280/60000]\tLoss: 0.170151\n",
      "Train Epoch: 3 [33920/60000]\tLoss: 0.118340\n",
      "Train Epoch: 3 [34560/60000]\tLoss: 0.304338\n",
      "Train Epoch: 3 [35200/60000]\tLoss: 0.079101\n",
      "Train Epoch: 3 [35840/60000]\tLoss: 0.123409\n",
      "Train Epoch: 3 [36480/60000]\tLoss: 0.248197\n",
      "Train Epoch: 3 [37120/60000]\tLoss: 0.056792\n",
      "Train Epoch: 3 [37760/60000]\tLoss: 0.027791\n",
      "Train Epoch: 3 [38400/60000]\tLoss: 0.096731\n",
      "Train Epoch: 3 [39040/60000]\tLoss: 0.051484\n",
      "Train Epoch: 3 [39680/60000]\tLoss: 0.015401\n",
      "Train Epoch: 3 [40320/60000]\tLoss: 0.097935\n",
      "Train Epoch: 3 [40960/60000]\tLoss: 0.047877\n",
      "Train Epoch: 3 [41600/60000]\tLoss: 0.078717\n",
      "Train Epoch: 3 [42240/60000]\tLoss: 0.096047\n",
      "Train Epoch: 3 [42880/60000]\tLoss: 0.060666\n",
      "Train Epoch: 3 [43520/60000]\tLoss: 0.222464\n",
      "Train Epoch: 3 [44160/60000]\tLoss: 0.060279\n",
      "Train Epoch: 3 [44800/60000]\tLoss: 0.229746\n",
      "Train Epoch: 3 [45440/60000]\tLoss: 0.072412\n",
      "Train Epoch: 3 [46080/60000]\tLoss: 0.105953\n",
      "Train Epoch: 3 [46720/60000]\tLoss: 0.155642\n",
      "Train Epoch: 3 [47360/60000]\tLoss: 0.099041\n",
      "Train Epoch: 3 [48000/60000]\tLoss: 0.131334\n",
      "Train Epoch: 3 [48640/60000]\tLoss: 0.037481\n",
      "Train Epoch: 3 [49280/60000]\tLoss: 0.179771\n",
      "Train Epoch: 3 [49920/60000]\tLoss: 0.105951\n",
      "Train Epoch: 3 [50560/60000]\tLoss: 0.066590\n",
      "Train Epoch: 3 [51200/60000]\tLoss: 0.174164\n",
      "Train Epoch: 3 [51840/60000]\tLoss: 0.120140\n",
      "Train Epoch: 3 [52480/60000]\tLoss: 0.077957\n",
      "Train Epoch: 3 [53120/60000]\tLoss: 0.026565\n",
      "Train Epoch: 3 [53760/60000]\tLoss: 0.122018\n",
      "Train Epoch: 3 [54400/60000]\tLoss: 0.097114\n",
      "Train Epoch: 3 [55040/60000]\tLoss: 0.095438\n",
      "Train Epoch: 3 [55680/60000]\tLoss: 0.123275\n",
      "Train Epoch: 3 [56320/60000]\tLoss: 0.046694\n",
      "Train Epoch: 3 [56960/60000]\tLoss: 0.100935\n",
      "Train Epoch: 3 [57600/60000]\tLoss: 0.074077\n",
      "Train Epoch: 3 [58240/60000]\tLoss: 0.062769\n",
      "Train Epoch: 3 [58880/60000]\tLoss: 0.063445\n",
      "Train Epoch: 3 [59520/60000]\tLoss: 0.157267\n",
      "\n",
      "Test set: Avg. loss: 0.0555, Accuracy: 9815/10000 (98%)\n",
      "\n"
     ]
    }
   ],
   "source": [
    "# Get initial performance\n",
    "test()\n",
    "# Train for three epochs\n",
    "n_epochs = 3\n",
    "for epoch in range(1, n_epochs + 1):\n",
    "  train(epoch)\n",
    "  test()"
   ]
  },
  {
   "cell_type": "code",
   "execution_count": 31,
   "metadata": {
    "id": "o7fRUAy9Se1B"
   },
   "outputs": [
    {
     "name": "stderr",
     "output_type": "stream",
     "text": [
      "/tmp/ipykernel_9700/752274315.py:40: UserWarning: Implicit dimension choice for log_softmax has been deprecated. Change the call to include dim=X as an argument.\n",
      "  x = F.log_softmax(x)\n"
     ]
    },
    {
     "data": {
      "image/png": "[encoded data removed]",
      "text/plain": [
       "<Figure size 640x480 with 10 Axes>"
      ]
     },
     "metadata": {},
     "output_type": "display_data"
    }
   ],
   "source": [
    "# Run network on data we got before and show predictions\n",
    "output = model(example_data)\n",
    "\n",
    "fig = plt.figure()\n",
    "for i in range(10):\n",
    "  plt.subplot(5,5,i+1)\n",
    "  plt.tight_layout()\n",
    "  plt.imshow(example_data[i][0], cmap='gray', interpolation='none')\n",
    "  plt.title(\"Prediction: {}\".format(\n",
    "    output.data.max(1, keepdim=True)[1][i].item()))\n",
    "  plt.xticks([])\n",
    "  plt.yticks([])\n",
    "plt.show()"
   ]
  },
  {
   "cell_type": "code",
   "execution_count": null,
   "metadata": {},
   "outputs": [],
   "source": []
  }
 ],
 "metadata": {
  "colab": {
   "authorship_tag": "ABX9TyORZF8xy4X1yf4oRhRq8Rtm",
   "include_colab_link": true,
   "provenance": []
  },
  "kernelspec": {
   "display_name": "Python 3 (ipykernel)",
   "language": "python",
   "name": "python3"
  },
  "language_info": {
   "codemirror_mode": {
    "name": "ipython",
    "version": 3
   },
   "file_extension": ".py",
   "mimetype": "text/x-python",
   "name": "python",
   "nbconvert_exporter": "python",
   "pygments_lexer": "ipython3",
   "version": "3.11.11"
  }
 },
 "nbformat": 4,
 "nbformat_minor": 4
}
