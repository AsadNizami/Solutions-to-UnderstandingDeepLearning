{
 "cells": [
  {
   "cell_type": "markdown",
   "metadata": {
    "colab_type": "text",
    "id": "view-in-github"
   },
   "source": [
    "<a href=\"https://colab.research.google.com/github/udlbook/udlbook/blob/main/Notebooks/Chap11/11_2_Residual_Networks.ipynb\" target=\"_parent\"><img src=\"https://colab.research.google.com/assets/colab-badge.svg\" alt=\"Open In Colab\"/></a>"
   ]
  },
  {
   "cell_type": "markdown",
   "metadata": {
    "id": "t9vk9Elugvmi"
   },
   "source": [
    "# **Notebook 11.2: Residual Networks**\n",
    "\n",
    "This notebook adapts the networks for MNIST1D to use residual connections.\n",
    "\n",
    "Work through the cells below, running each cell in turn. In various places you will see the words \"TO DO\". Follow the instructions at these places and make predictions about what is going to happen or write code to complete the functions.\n",
    "\n",
    "Contact me at udlbookmail@gmail.com if you find any mistakes or have any suggestions.\n",
    "\n"
   ]
  },
  {
   "cell_type": "code",
   "execution_count": 1,
   "metadata": {
    "id": "D5yLObtZCi9J"
   },
   "outputs": [
    {
     "name": "stdout",
     "output_type": "stream",
     "text": [
      "Collecting git+https://github.com/greydanus/mnist1d\n",
      "  Cloning https://github.com/greydanus/mnist1d to /tmp/pip-req-build-m28uue7z\n",
      "  Running command git clone --filter=blob:none --quiet https://github.com/greydanus/mnist1d /tmp/pip-req-build-m28uue7z\n",
      "  Resolved https://github.com/greydanus/mnist1d to commit 7878d96082abd200c546a07a4101fa90b30fdf7e\n",
      "  Installing build dependencies ... \u001b[done\n",
      "\u001b[?25h  Getting requirements to build wheel ... \u001b[?25ldone\n",
      "\u001b[?25h  Preparing metadata (pyproject.toml) ... \u001b[?25ldone\n",
      "\u001b[?25hRequirement already satisfied: requests in /home/ubuntu/miniconda3/envs/unsloth_env/lib/python3.11/site-packages (from mnist1d==0.0.2.post16) (2.32.3)\n",
      "Requirement already satisfied: numpy in /home/ubuntu/miniconda3/envs/unsloth_env/lib/python3.11/site-packages (from mnist1d==0.0.2.post16) (1.26.4)\n",
      "Requirement already satisfied: matplotlib in /home/ubuntu/miniconda3/envs/unsloth_env/lib/python3.11/site-packages (from mnist1d==0.0.2.post16) (3.10.0)\n",
      "Requirement already satisfied: scipy in /home/ubuntu/miniconda3/envs/unsloth_env/lib/python3.11/site-packages (from mnist1d==0.0.2.post16) (1.14.1)\n",
      "Requirement already satisfied: contourpy>=1.0.1 in /home/ubuntu/miniconda3/envs/unsloth_env/lib/python3.11/site-packages (from matplotlib->mnist1d==0.0.2.post16) (1.3.1)\n",
      "Requirement already satisfied: cycler>=0.10 in /home/ubuntu/miniconda3/envs/unsloth_env/lib/python3.11/site-packages (from matplotlib->mnist1d==0.0.2.post16) (0.12.1)\n",
      "Requirement already satisfied: fonttools>=4.22.0 in /home/ubuntu/miniconda3/envs/unsloth_env/lib/python3.11/site-packages (from matplotlib->mnist1d==0.0.2.post16) (4.55.3)\n",
      "Requirement already satisfied: kiwisolver>=1.3.1 in /home/ubuntu/miniconda3/envs/unsloth_env/lib/python3.11/site-packages (from matplotlib->mnist1d==0.0.2.post16) (1.4.7)\n",
      "Requirement already satisfied: packaging>=20.0 in /home/ubuntu/miniconda3/envs/unsloth_env/lib/python3.11/site-packages (from matplotlib->mnist1d==0.0.2.post16) (24.2)\n",
      "Requirement already satisfied: pillow>=8 in /home/ubuntu/miniconda3/envs/unsloth_env/lib/python3.11/site-packages (from matplotlib->mnist1d==0.0.2.post16) (11.0.0)\n",
      "Requirement already satisfied: pyparsing>=2.3.1 in /home/ubuntu/miniconda3/envs/unsloth_env/lib/python3.11/site-packages (from matplotlib->mnist1d==0.0.2.post16) (3.2.0)\n",
      "Requirement already satisfied: python-dateutil>=2.7 in /home/ubuntu/miniconda3/envs/unsloth_env/lib/python3.11/site-packages (from matplotlib->mnist1d==0.0.2.post16) (2.9.0.post0)\n",
      "Requirement already satisfied: charset_normalizer<4,>=2 in /home/ubuntu/miniconda3/envs/unsloth_env/lib/python3.11/site-packages (from requests->mnist1d==0.0.2.post16) (3.4.0)\n",
      "Requirement already satisfied: idna<4,>=2.5 in /home/ubuntu/miniconda3/envs/unsloth_env/lib/python3.11/site-packages (from requests->mnist1d==0.0.2.post16) (3.10)\n",
      "Requirement already satisfied: urllib3<3,>=1.21.1 in /home/ubuntu/miniconda3/envs/unsloth_env/lib/python3.11/site-packages (from requests->mnist1d==0.0.2.post16) (2.2.3)\n",
      "Requirement already satisfied: certifi>=2017.4.17 in /home/ubuntu/miniconda3/envs/unsloth_env/lib/python3.11/site-packages (from requests->mnist1d==0.0.2.post16) (2024.12.14)\n",
      "Requirement already satisfied: six>=1.5 in /home/ubuntu/miniconda3/envs/unsloth_env/lib/python3.11/site-packages (from python-dateutil>=2.7->matplotlib->mnist1d==0.0.2.post16) (1.17.0)\n"
     ]
    }
   ],
   "source": [
    "# Run this if you're in a Colab to install MNIST 1D repository\n",
    "!pip install git+https://github.com/greydanus/mnist1d"
   ]
  },
  {
   "cell_type": "code",
   "execution_count": 2,
   "metadata": {
    "id": "YrXWAH7sUWvU"
   },
   "outputs": [],
   "source": [
    "import numpy as np\n",
    "import os\n",
    "import torch, torch.nn as nn\n",
    "from torch.utils.data import TensorDataset, DataLoader\n",
    "from torch.optim.lr_scheduler import StepLR\n",
    "import matplotlib.pyplot as plt\n",
    "import mnist1d\n",
    "import random"
   ]
  },
  {
   "cell_type": "code",
   "execution_count": 3,
   "metadata": {
    "id": "twI72ZCrCt5z"
   },
   "outputs": [
    {
     "name": "stdout",
     "output_type": "stream",
     "text": [
      "Did or could not load data from ./mnist1d_data.pkl. Rebuilding dataset...\n",
      "Examples in training set: 4000\n",
      "Examples in test set: 1000\n",
      "Length of each example: 40\n"
     ]
    }
   ],
   "source": [
    "args = mnist1d.data.get_dataset_args()\n",
    "data = mnist1d.data.get_dataset(args, path='./mnist1d_data.pkl', download=False, regenerate=False)\n",
    "\n",
    "# The training and test input and outputs are in\n",
    "# data['x'], data['y'], data['x_test'], and data['y_test']\n",
    "print(\"Examples in training set: {}\".format(len(data['y'])))\n",
    "print(\"Examples in test set: {}\".format(len(data['y_test'])))\n",
    "print(\"Length of each example: {}\".format(data['x'].shape[-1]))"
   ]
  },
  {
   "cell_type": "code",
   "execution_count": 4,
   "metadata": {
    "id": "8bKADvLHbiV5"
   },
   "outputs": [
    {
     "name": "stdout",
     "output_type": "stream",
     "text": [
      "Train data: 4000 examples (columns), each of which has 40 dimensions (rows)\n",
      "Validation data: 1000 examples (columns), each of which has 40 dimensions (rows)\n"
     ]
    }
   ],
   "source": [
    "# Load in the data\n",
    "train_data_x = data['x'].transpose()\n",
    "train_data_y = data['y']\n",
    "val_data_x = data['x_test'].transpose()\n",
    "val_data_y = data['y_test']\n",
    "# Print out sizes\n",
    "print(\"Train data: %d examples (columns), each of which has %d dimensions (rows)\"%((train_data_x.shape[1],train_data_x.shape[0])))\n",
    "print(\"Validation data: %d examples (columns), each of which has %d dimensions (rows)\"%((val_data_x.shape[1],val_data_x.shape[0])))"
   ]
  },
  {
   "cell_type": "markdown",
   "metadata": {
    "id": "_sFvRDGrl4qe"
   },
   "source": [
    "Define the network"
   ]
  },
  {
   "cell_type": "code",
   "execution_count": 37,
   "metadata": {
    "id": "FslroPJJffrh"
   },
   "outputs": [],
   "source": [
    "# There are 40 input dimensions and 10 output dimensions for this data\n",
    "# The inputs correspond to the 40 offsets in the MNIST1D template.\n",
    "D_i = 40\n",
    "# The outputs correspond to the 10 digits\n",
    "D_o = 10\n",
    "\n",
    "\n",
    "# We will adapt this model to have residual connections around the linear layers\n",
    "# This is the same model we used in practical 8.1, but we can't use the sequential\n",
    "# class for residual networks (which aren't strictly sequential).  Hence, I've rewritten\n",
    "# it as a model that inherits from a base class\n",
    "\n",
    "class ResidualNetwork(torch.nn.Module):\n",
    "  def __init__(self, input_size, output_size, hidden_size=100):\n",
    "    super(ResidualNetwork, self).__init__()\n",
    "    self.linear1 = nn.Linear(input_size, hidden_size)\n",
    "    self.linear2 = nn.Linear(hidden_size, hidden_size)\n",
    "    self.linear3 = nn.Linear(hidden_size, hidden_size)\n",
    "    self.linear4 = nn.Linear(hidden_size, output_size)\n",
    "    print(\"Initialized MLPBase model with {} parameters\".format(self.count_params()))\n",
    "\n",
    "  def count_params(self):\n",
    "    return sum([p.view(-1).shape[0] for p in self.parameters()])\n",
    "\n",
    "# TODO -- Add residual connections to this model\n",
    "# The order of operations within each block should similar to figure 11.5b\n",
    "# ie., linear1 first, ReLU+linear2 in first residual block, ReLU+linear3 in second residual block), linear4 at end\n",
    "# Replace this function\n",
    "  def forward(self, x):\n",
    "    h1 = self.linear1(x).relu()\n",
    "    h2 = self.linear2(h1).relu()\n",
    "    h3 = self.linear3(h2).relu() + h1\n",
    "    return self.linear4(h3)"
   ]
  },
  {
   "cell_type": "code",
   "execution_count": 38,
   "metadata": {
    "id": "YgLaex1pfhqz"
   },
   "outputs": [],
   "source": [
    "# He initialization of weights\n",
    "def weights_init(layer_in):\n",
    "  if isinstance(layer_in, nn.Linear):\n",
    "    nn.init.kaiming_uniform_(layer_in.weight)\n",
    "    layer_in.bias.data.fill_(0.0)"
   ]
  },
  {
   "cell_type": "code",
   "execution_count": 39,
   "metadata": {
    "id": "NYw8I_3mmX5c"
   },
   "outputs": [
    {
     "name": "stdout",
     "output_type": "stream",
     "text": [
      "Initialized MLPBase model with 25310 parameters\n",
      "Epoch     0, train loss 1.563121, train error 60.70,  val loss 1.644518, percent error 65.50\n",
      "Epoch     1, train loss 1.300358, train error 48.62,  val loss 1.440694, percent error 55.20\n",
      "Epoch     2, train loss 1.088950, train error 40.90,  val loss 1.293923, percent error 51.20\n",
      "Epoch     3, train loss 0.975530, train error 35.57,  val loss 1.250048, percent error 49.40\n",
      "Epoch     4, train loss 0.836006, train error 29.88,  val loss 1.178893, percent error 45.50\n",
      "Epoch     5, train loss 0.762373, train error 27.30,  val loss 1.136082, percent error 44.60\n",
      "Epoch     6, train loss 0.700619, train error 25.55,  val loss 1.189431, percent error 43.60\n",
      "Epoch     7, train loss 0.599709, train error 22.03,  val loss 1.130751, percent error 42.00\n",
      "Epoch     8, train loss 0.573616, train error 21.22,  val loss 1.197908, percent error 43.50\n",
      "Epoch     9, train loss 0.510443, train error 18.78,  val loss 1.196698, percent error 42.90\n",
      "Epoch    10, train loss 0.383085, train error 13.10,  val loss 1.136779, percent error 40.90\n",
      "Epoch    11, train loss 0.371750, train error 13.07,  val loss 1.200238, percent error 39.90\n",
      "Epoch    12, train loss 0.343508, train error 11.68,  val loss 1.261454, percent error 38.50\n",
      "Epoch    13, train loss 0.256965, train error 8.65,  val loss 1.211525, percent error 37.80\n",
      "Epoch    14, train loss 0.223538, train error 7.35,  val loss 1.199056, percent error 37.90\n",
      "Epoch    15, train loss 0.165526, train error 4.68,  val loss 1.264574, percent error 37.40\n",
      "Epoch    16, train loss 0.174276, train error 5.35,  val loss 1.407516, percent error 38.10\n",
      "Epoch    17, train loss 0.177395, train error 5.80,  val loss 1.456431, percent error 37.70\n",
      "Epoch    18, train loss 0.143333, train error 4.65,  val loss 1.441537, percent error 38.10\n",
      "Epoch    19, train loss 0.152796, train error 5.18,  val loss 1.622614, percent error 38.80\n",
      "Epoch    20, train loss 0.050182, train error 0.62,  val loss 1.487713, percent error 37.00\n",
      "Epoch    21, train loss 0.024977, train error 0.07,  val loss 1.448874, percent error 35.70\n",
      "Epoch    22, train loss 0.016304, train error 0.00,  val loss 1.438386, percent error 34.70\n",
      "Epoch    23, train loss 0.013320, train error 0.00,  val loss 1.455223, percent error 35.00\n",
      "Epoch    24, train loss 0.011516, train error 0.00,  val loss 1.479993, percent error 35.20\n",
      "Epoch    25, train loss 0.010464, train error 0.00,  val loss 1.493624, percent error 35.10\n",
      "Epoch    26, train loss 0.009387, train error 0.00,  val loss 1.511211, percent error 34.20\n",
      "Epoch    27, train loss 0.008543, train error 0.00,  val loss 1.524488, percent error 34.80\n",
      "Epoch    28, train loss 0.007877, train error 0.00,  val loss 1.538474, percent error 34.80\n",
      "Epoch    29, train loss 0.007260, train error 0.00,  val loss 1.552694, percent error 35.10\n",
      "Epoch    30, train loss 0.006793, train error 0.00,  val loss 1.564820, percent error 34.50\n",
      "Epoch    31, train loss 0.006414, train error 0.00,  val loss 1.577142, percent error 35.00\n",
      "Epoch    32, train loss 0.006022, train error 0.00,  val loss 1.587730, percent error 34.90\n",
      "Epoch    33, train loss 0.005680, train error 0.00,  val loss 1.593684, percent error 34.80\n",
      "Epoch    34, train loss 0.005359, train error 0.00,  val loss 1.605156, percent error 34.90\n",
      "Epoch    35, train loss 0.005101, train error 0.00,  val loss 1.613175, percent error 34.40\n",
      "Epoch    36, train loss 0.004870, train error 0.00,  val loss 1.622320, percent error 34.70\n",
      "Epoch    37, train loss 0.004639, train error 0.00,  val loss 1.627880, percent error 34.80\n",
      "Epoch    38, train loss 0.004451, train error 0.00,  val loss 1.638265, percent error 34.50\n",
      "Epoch    39, train loss 0.004243, train error 0.00,  val loss 1.645402, percent error 34.50\n",
      "Epoch    40, train loss 0.004148, train error 0.00,  val loss 1.649736, percent error 34.60\n",
      "Epoch    41, train loss 0.004060, train error 0.00,  val loss 1.653376, percent error 34.60\n",
      "Epoch    42, train loss 0.003980, train error 0.00,  val loss 1.657245, percent error 34.50\n",
      "Epoch    43, train loss 0.003905, train error 0.00,  val loss 1.661063, percent error 34.30\n",
      "Epoch    44, train loss 0.003831, train error 0.00,  val loss 1.663259, percent error 34.50\n",
      "Epoch    45, train loss 0.003761, train error 0.00,  val loss 1.667647, percent error 34.60\n",
      "Epoch    46, train loss 0.003692, train error 0.00,  val loss 1.670982, percent error 34.50\n",
      "Epoch    47, train loss 0.003627, train error 0.00,  val loss 1.673016, percent error 34.50\n",
      "Epoch    48, train loss 0.003568, train error 0.00,  val loss 1.677418, percent error 34.90\n",
      "Epoch    49, train loss 0.003502, train error 0.00,  val loss 1.679978, percent error 34.30\n",
      "Epoch    50, train loss 0.003441, train error 0.00,  val loss 1.682563, percent error 34.40\n",
      "Epoch    51, train loss 0.003385, train error 0.00,  val loss 1.686835, percent error 34.80\n",
      "Epoch    52, train loss 0.003327, train error 0.00,  val loss 1.689341, percent error 34.40\n",
      "Epoch    53, train loss 0.003275, train error 0.00,  val loss 1.692660, percent error 34.60\n",
      "Epoch    54, train loss 0.003223, train error 0.00,  val loss 1.696128, percent error 34.40\n",
      "Epoch    55, train loss 0.003173, train error 0.00,  val loss 1.698486, percent error 34.70\n",
      "Epoch    56, train loss 0.003123, train error 0.00,  val loss 1.701383, percent error 34.10\n",
      "Epoch    57, train loss 0.003074, train error 0.00,  val loss 1.704685, percent error 34.50\n",
      "Epoch    58, train loss 0.003028, train error 0.00,  val loss 1.708272, percent error 34.10\n",
      "Epoch    59, train loss 0.002982, train error 0.00,  val loss 1.710593, percent error 34.30\n",
      "Epoch    60, train loss 0.002960, train error 0.00,  val loss 1.712006, percent error 34.50\n",
      "Epoch    61, train loss 0.002939, train error 0.00,  val loss 1.713829, percent error 34.50\n",
      "Epoch    62, train loss 0.002917, train error 0.00,  val loss 1.714774, percent error 34.40\n",
      "Epoch    63, train loss 0.002896, train error 0.00,  val loss 1.716423, percent error 34.50\n",
      "Epoch    64, train loss 0.002876, train error 0.00,  val loss 1.717427, percent error 34.50\n",
      "Epoch    65, train loss 0.002855, train error 0.00,  val loss 1.718802, percent error 34.40\n",
      "Epoch    66, train loss 0.002835, train error 0.00,  val loss 1.720800, percent error 34.60\n",
      "Epoch    67, train loss 0.002815, train error 0.00,  val loss 1.721961, percent error 34.50\n",
      "Epoch    68, train loss 0.002795, train error 0.00,  val loss 1.723123, percent error 34.40\n",
      "Epoch    69, train loss 0.002776, train error 0.00,  val loss 1.724685, percent error 34.50\n",
      "Epoch    70, train loss 0.002757, train error 0.00,  val loss 1.725947, percent error 34.30\n",
      "Epoch    71, train loss 0.002738, train error 0.00,  val loss 1.727320, percent error 34.40\n",
      "Epoch    72, train loss 0.002719, train error 0.00,  val loss 1.728236, percent error 34.30\n",
      "Epoch    73, train loss 0.002701, train error 0.00,  val loss 1.729765, percent error 34.50\n",
      "Epoch    74, train loss 0.002683, train error 0.00,  val loss 1.731212, percent error 34.40\n",
      "Epoch    75, train loss 0.002665, train error 0.00,  val loss 1.732441, percent error 34.40\n",
      "Epoch    76, train loss 0.002647, train error 0.00,  val loss 1.734255, percent error 34.40\n",
      "Epoch    77, train loss 0.002630, train error 0.00,  val loss 1.735270, percent error 34.50\n",
      "Epoch    78, train loss 0.002612, train error 0.00,  val loss 1.736469, percent error 34.60\n",
      "Epoch    79, train loss 0.002595, train error 0.00,  val loss 1.737573, percent error 34.50\n",
      "Epoch    80, train loss 0.002587, train error 0.00,  val loss 1.738228, percent error 34.40\n",
      "Epoch    81, train loss 0.002578, train error 0.00,  val loss 1.738715, percent error 34.50\n",
      "Epoch    82, train loss 0.002570, train error 0.00,  val loss 1.739430, percent error 34.50\n",
      "Epoch    83, train loss 0.002561, train error 0.00,  val loss 1.740088, percent error 34.50\n",
      "Epoch    84, train loss 0.002553, train error 0.00,  val loss 1.740738, percent error 34.50\n",
      "Epoch    85, train loss 0.002545, train error 0.00,  val loss 1.741441, percent error 34.50\n",
      "Epoch    86, train loss 0.002537, train error 0.00,  val loss 1.741774, percent error 34.50\n",
      "Epoch    87, train loss 0.002529, train error 0.00,  val loss 1.742458, percent error 34.60\n",
      "Epoch    88, train loss 0.002521, train error 0.00,  val loss 1.743195, percent error 34.60\n",
      "Epoch    89, train loss 0.002513, train error 0.00,  val loss 1.743707, percent error 34.60\n",
      "Epoch    90, train loss 0.002505, train error 0.00,  val loss 1.744446, percent error 34.50\n",
      "Epoch    91, train loss 0.002497, train error 0.00,  val loss 1.744993, percent error 34.70\n",
      "Epoch    92, train loss 0.002489, train error 0.00,  val loss 1.745880, percent error 34.60\n",
      "Epoch    93, train loss 0.002481, train error 0.00,  val loss 1.746300, percent error 34.60\n",
      "Epoch    94, train loss 0.002474, train error 0.00,  val loss 1.746923, percent error 34.50\n",
      "Epoch    95, train loss 0.002466, train error 0.00,  val loss 1.747537, percent error 34.60\n",
      "Epoch    96, train loss 0.002458, train error 0.00,  val loss 1.748145, percent error 34.60\n",
      "Epoch    97, train loss 0.002451, train error 0.00,  val loss 1.748689, percent error 34.60\n",
      "Epoch    98, train loss 0.002443, train error 0.00,  val loss 1.749438, percent error 34.70\n",
      "Epoch    99, train loss 0.002436, train error 0.00,  val loss 1.750017, percent error 34.70\n"
     ]
    }
   ],
   "source": [
    "#Define the model\n",
    "model = ResidualNetwork(40, 10)\n",
    "\n",
    "# choose cross entropy loss function (equation 5.24 in the loss notes)\n",
    "loss_function = nn.CrossEntropyLoss()\n",
    "# construct SGD optimizer and initialize learning rate and momentum\n",
    "optimizer = torch.optim.SGD(model.parameters(), lr = 0.05, momentum=0.9)\n",
    "# object that decreases learning rate by half every 20 epochs\n",
    "scheduler = StepLR(optimizer, step_size=20, gamma=0.5)\n",
    "# convert data to torch tensors\n",
    "x_train = torch.tensor(train_data_x.transpose().astype('float32'))\n",
    "y_train = torch.tensor(train_data_y.astype('long'))\n",
    "x_val= torch.tensor(val_data_x.transpose().astype('float32'))\n",
    "y_val = torch.tensor(val_data_y.astype('long'))\n",
    "\n",
    "# load the data into a class that creates the batches\n",
    "data_loader = DataLoader(TensorDataset(x_train,y_train), batch_size=100, shuffle=True, worker_init_fn=np.random.seed(1))\n",
    "\n",
    "# Initialize model weights\n",
    "model.apply(weights_init)\n",
    "\n",
    "# loop over the dataset n_epoch times\n",
    "n_epoch = 100\n",
    "# store the loss and the % correct at each epoch\n",
    "losses_train = np.zeros((n_epoch))\n",
    "errors_train = np.zeros((n_epoch))\n",
    "losses_val = np.zeros((n_epoch))\n",
    "errors_val = np.zeros((n_epoch))\n",
    "\n",
    "for epoch in range(n_epoch):\n",
    "  # loop over batches\n",
    "  for i, data in enumerate(data_loader):\n",
    "    # retrieve inputs and labels for this batch\n",
    "    x_batch, y_batch = data\n",
    "    # zero the parameter gradients\n",
    "    optimizer.zero_grad()\n",
    "    # forward pass -- calculate model output\n",
    "    pred = model(x_batch)\n",
    "    # compute the loss\n",
    "    loss = loss_function(pred, y_batch)\n",
    "    # backward pass\n",
    "    loss.backward()\n",
    "    # SGD update\n",
    "    optimizer.step()\n",
    "\n",
    "  # Run whole dataset to get statistics -- normally wouldn't do this\n",
    "  pred_train = model(x_train)\n",
    "  pred_val = model(x_val)\n",
    "  _, predicted_train_class = torch.max(pred_train.data, 1)\n",
    "  _, predicted_val_class = torch.max(pred_val.data, 1)\n",
    "  errors_train[epoch] = 100 - 100 * (predicted_train_class == y_train).float().sum() / len(y_train)\n",
    "  errors_val[epoch]= 100 - 100 * (predicted_val_class == y_val).float().sum() / len(y_val)\n",
    "  losses_train[epoch] = loss_function(pred_train, y_train).item()\n",
    "  losses_val[epoch]= loss_function(pred_val, y_val).item()\n",
    "  print(f'Epoch {epoch:5d}, train loss {losses_train[epoch]:.6f}, train error {errors_train[epoch]:3.2f},  val loss {losses_val[epoch]:.6f}, percent error {errors_val[epoch]:3.2f}')\n",
    "\n",
    "  # tell scheduler to consider updating learning rate\n",
    "  scheduler.step()"
   ]
  },
  {
   "cell_type": "code",
   "execution_count": 40,
   "metadata": {
    "id": "CcP_VyEmE2sv"
   },
   "outputs": [
    {
     "data": {
      "image/png": "[encoded data removed]",
      "text/plain": [
       "<Figure size 640x480 with 1 Axes>"
      ]
     },
     "metadata": {},
     "output_type": "display_data"
    }
   ],
   "source": [
    "# Plot the results\n",
    "fig, ax = plt.subplots()\n",
    "ax.plot(errors_train,'r-',label='train')\n",
    "ax.plot(errors_val,'b-',label='test')\n",
    "ax.set_ylim(0,100); ax.set_xlim(0,n_epoch)\n",
    "ax.set_xlabel('Epoch'); ax.set_ylabel('Error')\n",
    "ax.set_title('TrainError %3.2f, Val Error %3.2f'%(errors_train[-1],errors_val[-1]))\n",
    "ax.legend()\n",
    "plt.show()"
   ]
  },
  {
   "cell_type": "markdown",
   "metadata": {
    "id": "wMmqhmxuAx0M"
   },
   "source": [
    "The primary motivation of residual networks is to allow training of much deeper networks.   \n",
    "\n",
    "TODO: Try running this network with and without the residual connections.  Does adding the residual connections change the performance?"
   ]
  }
 ],
 "metadata": {
  "colab": {
   "authorship_tag": "ABX9TyNIY8tswL9e48d5D53aSmHO",
   "include_colab_link": true,
   "provenance": []
  },
  "kernelspec": {
   "display_name": "Python 3 (ipykernel)",
   "language": "python",
   "name": "python3"
  },
  "language_info": {
   "codemirror_mode": {
    "name": "ipython",
    "version": 3
   },
   "file_extension": ".py",
   "mimetype": "text/x-python",
   "name": "python",
   "nbconvert_exporter": "python",
   "pygments_lexer": "ipython3",
   "version": "3.11.11"
  }
 },
 "nbformat": 4,
 "nbformat_minor": 4
}
